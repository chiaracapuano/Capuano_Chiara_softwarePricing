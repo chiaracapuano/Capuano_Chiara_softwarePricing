{
 "cells": [
  {
   "cell_type": "code",
   "execution_count": 52,
   "metadata": {
    "collapsed": true
   },
   "outputs": [],
   "source": [
    "import pandas as pd\n",
    "\n",
    "test_results = pd.read_csv(\"test_results.txt\")\n",
    "test_results.drop(test_results.columns[0], axis=1, inplace=True)\n",
    "user_table = pd.read_csv(\"user_table.txt\")\n",
    "\n",
    "\n",
    "df = test_results.merge(user_table, on ='user_id')\n",
    "\n",
    "\n",
    "\n"
   ]
  },
  {
   "cell_type": "code",
   "execution_count": 53,
   "outputs": [
    {
     "name": "stdout",
     "output_type": "stream",
     "text": [
      "2015-05-08 03:38:34\n",
      "3\n",
      "<class 'pandas._libs.tslibs.timestamps.Timestamp'>\n"
     ]
    }
   ],
   "source": [
    "df.drop(columns = ['lat', 'long', 'user_id', 'country'], inplace=True)\n",
    "df['operative_system']=df.groupby('device').operative_system.transform(lambda x: x.fillna(x.mode()[0]))\n",
    "df = df.fillna(df.mode().iloc[0])\n",
    "print(df['timestamp'][0])\n",
    "\n",
    "df['timestamp'] =df['timestamp'].str.replace('60', '00')\n",
    "df['timestamp'] =pd.to_datetime(df['timestamp'], format='%Y-%m-%d %H:%M:%S', errors = 'coerce')\n",
    "print(df['timestamp'][0].hour)\n",
    "print(type(df['timestamp'][0]))\n",
    "\n",
    "\n",
    "df['hour'] = df['timestamp'].dt.hour\n",
    "df['month'] = df['timestamp'].dt.month\n",
    "df['weekday'] = df['timestamp'].dt.weekday\n",
    "df['year'] = df['timestamp'].dt.year\n"
   ],
   "metadata": {
    "collapsed": false,
    "pycharm": {
     "name": "#%%\n"
    }
   }
  },
  {
   "cell_type": "code",
   "execution_count": 54,
   "outputs": [
    {
     "name": "stdout",
     "output_type": "stream",
     "text": [
      "5.0    99072\n",
      "4.0    88840\n",
      "3.0    87440\n",
      "Name: month, dtype: int64\n",
      "2015.0    275352\n",
      "Name: year, dtype: int64\n",
      "hour value counts 12.0    33364\n",
      "11.0    29060\n",
      "10.0    24336\n",
      "9.0     19270\n",
      "13.0    14882\n",
      "16.0    14594\n",
      "8.0     14415\n",
      "14.0    14345\n",
      "18.0    14308\n",
      "17.0    14206\n",
      "15.0    14168\n",
      "7.0      9584\n",
      "2.0      5069\n",
      "5.0      5014\n",
      "22.0     4979\n",
      "3.0      4979\n",
      "1.0      4969\n",
      "0.0      4950\n",
      "21.0     4890\n",
      "19.0     4844\n",
      "20.0     4843\n",
      "6.0      4814\n",
      "23.0     4782\n",
      "4.0      4687\n",
      "Name: hour, dtype: int64\n",
      "weekday value counts 4.0    79888\n",
      "5.0    64514\n",
      "6.0    48706\n",
      "3.0    32119\n",
      "1.0    17066\n",
      "0.0    16684\n",
      "2.0    16375\n",
      "Name: weekday, dtype: int64\n",
      "99188\n",
      "98244\n",
      "272621\n"
     ]
    }
   ],
   "source": [
    "#check for seasonality\n",
    "print(df['month'].value_counts())\n",
    "#check how historical the data is\n",
    "print(df['year'].value_counts())\n",
    "print('hour value counts',df['hour'].value_counts())\n",
    "print('weekday value counts',df['weekday'].value_counts())\n",
    "\n",
    "df.drop(columns = ['month', 'year', 'timestamp'], inplace=True)\n",
    "\n",
    "#check trial users were actually displayed 59\n",
    "\n",
    "print(len(df[df['test']==1]))\n",
    "print(len(df[df['price']==59.0]))\n",
    "\n",
    "#remove inconsistent rows\n",
    "df = df[(df['test']==1) & (df['price']==59.0) | (df['test']==0) & (df['price']==39.0)]\n",
    "\n",
    "print(len(df))\n",
    "df.drop(columns = ['price'], inplace=True)\n",
    "#remove hours and weekdays that don't make sense\n",
    "df = df.dropna()"
   ],
   "metadata": {
    "collapsed": false,
    "pycharm": {
     "name": "#%%\n"
    }
   }
  },
  {
   "cell_type": "code",
   "execution_count": null,
   "outputs": [],
   "source": [
    "#Fisher's exact test'\n",
    "\n",
    "\n",
    "\n",
    "\n",
    "\n",
    "\n"
   ],
   "metadata": {
    "collapsed": false,
    "pycharm": {
     "name": "#%%\n"
    }
   }
  },
  {
   "cell_type": "code",
   "execution_count": 55,
   "outputs": [
    {
     "data": {
      "text/plain": "        source  device  operative_system  city\n0            3       0                 4   109\n1            8       0                 0   433\n2            0       0                 0   612\n3            5       0                 4   278\n4            3       1                 5   281\n...        ...     ...               ...   ...\n275611       8       1                 6   398\n275612       5       1                 6    56\n275613       1       1                 5   893\n275614       6       0                 0   865\n275615       3       0                 0   155\n\n[272359 rows x 4 columns]",
      "text/html": "<div>\n<style scoped>\n    .dataframe tbody tr th:only-of-type {\n        vertical-align: middle;\n    }\n\n    .dataframe tbody tr th {\n        vertical-align: top;\n    }\n\n    .dataframe thead th {\n        text-align: right;\n    }\n</style>\n<table border=\"1\" class=\"dataframe\">\n  <thead>\n    <tr style=\"text-align: right;\">\n      <th></th>\n      <th>source</th>\n      <th>device</th>\n      <th>operative_system</th>\n      <th>city</th>\n    </tr>\n  </thead>\n  <tbody>\n    <tr>\n      <th>0</th>\n      <td>3</td>\n      <td>0</td>\n      <td>4</td>\n      <td>109</td>\n    </tr>\n    <tr>\n      <th>1</th>\n      <td>8</td>\n      <td>0</td>\n      <td>0</td>\n      <td>433</td>\n    </tr>\n    <tr>\n      <th>2</th>\n      <td>0</td>\n      <td>0</td>\n      <td>0</td>\n      <td>612</td>\n    </tr>\n    <tr>\n      <th>3</th>\n      <td>5</td>\n      <td>0</td>\n      <td>4</td>\n      <td>278</td>\n    </tr>\n    <tr>\n      <th>4</th>\n      <td>3</td>\n      <td>1</td>\n      <td>5</td>\n      <td>281</td>\n    </tr>\n    <tr>\n      <th>...</th>\n      <td>...</td>\n      <td>...</td>\n      <td>...</td>\n      <td>...</td>\n    </tr>\n    <tr>\n      <th>275611</th>\n      <td>8</td>\n      <td>1</td>\n      <td>6</td>\n      <td>398</td>\n    </tr>\n    <tr>\n      <th>275612</th>\n      <td>5</td>\n      <td>1</td>\n      <td>6</td>\n      <td>56</td>\n    </tr>\n    <tr>\n      <th>275613</th>\n      <td>1</td>\n      <td>1</td>\n      <td>5</td>\n      <td>893</td>\n    </tr>\n    <tr>\n      <th>275614</th>\n      <td>6</td>\n      <td>0</td>\n      <td>0</td>\n      <td>865</td>\n    </tr>\n    <tr>\n      <th>275615</th>\n      <td>3</td>\n      <td>0</td>\n      <td>0</td>\n      <td>155</td>\n    </tr>\n  </tbody>\n</table>\n<p>272359 rows × 4 columns</p>\n</div>"
     },
     "execution_count": 55,
     "metadata": {},
     "output_type": "execute_result"
    }
   ],
   "source": [
    "from sklearn import preprocessing\n",
    "df_enc = df.drop(columns=['test'])\n",
    "to_encode = ['source', 'device', 'operative_system', 'city']\n",
    "le = preprocessing.LabelEncoder()\n",
    "\n",
    "\n",
    "df_enc[to_encode].apply(le.fit_transform)\n",
    "\n",
    "#for i in to_encode:\n",
    "#    df_enc[i] = le.fit_transform(df_enc[i])"
   ],
   "metadata": {
    "collapsed": false,
    "pycharm": {
     "name": "#%%\n"
    }
   }
  },
  {
   "cell_type": "code",
   "execution_count": null,
   "outputs": [],
   "source": [
    "from kmodes.kmodes import KModes\n",
    "\n",
    "cost=[]\n",
    "for k in list(range(2,11)):\n",
    "        print('Iteration number:', k)\n",
    "        km = KModes(n_clusters=k, n_init = 1, verbose=1)\n",
    "        km.fit(df_enc)\n",
    "        cost.append(km.cost_)\n",
    "\n",
    "import numpy as np\n",
    "y = np.array([i for i in range(2,11,1)])\n",
    "import matplotlib.pyplot as plt\n",
    "\n",
    "plt.plot(y,cost)\n",
    "plt.show()"
   ],
   "metadata": {
    "collapsed": false,
    "pycharm": {
     "name": "#%%\n"
    }
   }
  },
  {
   "cell_type": "code",
   "execution_count": 24,
   "outputs": [
    {
     "name": "stdout",
     "output_type": "stream",
     "text": [
      "Init: initializing centroids\n",
      "Init: initializing clusters\n",
      "Starting iterations...\n",
      "Run 1, iteration: 1/100, moves: 4155, cost: 929700.0\n",
      "done with kmodes\n"
     ]
    }
   ],
   "source": [
    "#choose k=3\n",
    "km = KModes(n_clusters=3, n_init = 1, verbose=1)\n",
    "clusters = km.fit_predict(df_enc)\n",
    "\n",
    "print('done with kmodes')\n",
    "\n",
    "\n",
    "\n"
   ],
   "metadata": {
    "collapsed": false,
    "pycharm": {
     "name": "#%%\n"
    }
   }
  },
  {
   "cell_type": "code",
   "execution_count": 56,
   "outputs": [
    {
     "name": "stdout",
     "output_type": "stream",
     "text": [
      "source\n",
      "direct_traffic     52200\n",
      "ads-google         50942\n",
      "ads_facebook       45772\n",
      "ads_other          25748\n",
      "seo-google         19905\n",
      "ads-bing           19607\n",
      "seo_facebook       18229\n",
      "friend_referral    17785\n",
      "seo-other           7939\n",
      "ads-yahoo           6499\n",
      "seo-yahoo           5890\n",
      "seo-bing            1843\n",
      "Name: source, dtype: int64\n",
      "device\n",
      "mobile    160397\n",
      "web       111962\n",
      "Name: device, dtype: int64\n",
      "operative_system\n",
      "iOS        95739\n",
      "windows    90303\n",
      "android    64492\n",
      "mac        21553\n",
      "i0S           97\n",
      "wnddows       83\n",
      "anroid        69\n",
      "apple         23\n",
      "Name: operative_system, dtype: int64\n",
      "city\n",
      "New York       25438\n",
      "Chicago         7077\n",
      "Houston         6626\n",
      "San Antonio     4574\n",
      "Los Angeles     4091\n",
      "               ...  \n",
      "East Lake          1\n",
      "Ocala              1\n",
      "New Milford        1\n",
      "Cerritos           1\n",
      "Costa Mesa         1\n",
      "Name: city, Length: 923, dtype: int64\n"
     ]
    }
   ],
   "source": [
    "df_renc = df_enc.copy()\n",
    "\n",
    "\n",
    "df_renc[to_encode].apply(le.fit_transform)"
   ],
   "metadata": {
    "collapsed": false,
    "pycharm": {
     "name": "#%%\n"
    }
   }
  },
  {
   "cell_type": "code",
   "execution_count": 57,
   "outputs": [],
   "source": [
    "df_ind_res = df_renc.reset_index()\n",
    "\n",
    "clustersDf = pd.DataFrame(clusters)\n",
    "clustersDf.columns = ['cluster_predicted']\n",
    "df_clusters = pd.concat([clustersDf, df_ind_res], axis = 1).reset_index()\n",
    "df_clusters = df_clusters.drop(['index', 'level_0'], axis = 1)\n",
    "\n"
   ],
   "metadata": {
    "collapsed": false,
    "pycharm": {
     "name": "#%%\n"
    }
   }
  },
  {
   "cell_type": "code",
   "execution_count": null,
   "outputs": [
    {
     "data": {
      "text/plain": "<Figure size 432x288 with 1 Axes>",
      "image/png": "[encoded data removed]"
     },
     "metadata": {},
     "output_type": "display_data"
    },
    {
     "data": {
      "text/plain": "<Figure size 432x288 with 1 Axes>",
      "image/png": "[encoded data removed]"
     },
     "metadata": {},
     "output_type": "display_data"
    },
    {
     "data": {
      "text/plain": "<Figure size 432x288 with 1 Axes>",
      "image/png": "[encoded data removed]"
     },
     "metadata": {},
     "output_type": "display_data"
    },
    {
     "data": {
      "text/plain": "<Figure size 432x288 with 1 Axes>",
      "image/png": "[encoded data removed]"
     },
     "metadata": {},
     "output_type": "display_data"
    }
   ],
   "source": [
    "from matplotlib import style\n",
    "style.use('seaborn-white')\n",
    "import matplotlib.pyplot as plt\n",
    "import seaborn as sns\n",
    "cols_clusters = ['source','device', 'operative_system','converted','city','hour','weekday']\n",
    "\n",
    "\n",
    "for col in df_enc.columns:\n",
    "    #plt.subplots(figsize = (15,5))\n",
    "    sns.countplot(x=df_clusters[col],order=df_clusters[col].value_counts().index,hue=df_clusters['cluster_predicted'])\n",
    "    degrees = 90\n",
    "    plt.xticks(rotation=degrees)\n",
    "    plt.show()"
   ],
   "metadata": {
    "collapsed": false,
    "pycharm": {
     "name": "#%%\n",
     "is_executing": true
    }
   }
  }
 ],
 "metadata": {
  "kernelspec": {
   "display_name": "Python 3",
   "language": "python",
   "name": "python3"
  },
  "language_info": {
   "codemirror_mode": {
    "name": "ipython",
    "version": 2
   },
   "file_extension": ".py",
   "mimetype": "text/x-python",
   "name": "python",
   "nbconvert_exporter": "python",
   "pygments_lexer": "ipython2",
   "version": "2.7.6"
  }
 },
 "nbformat": 4,
 "nbformat_minor": 0
}