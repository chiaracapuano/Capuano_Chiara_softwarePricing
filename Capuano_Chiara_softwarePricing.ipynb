{
 "cells": [
  {
   "cell_type": "code",
   "execution_count": 18,
   "metadata": {
    "collapsed": true
   },
   "outputs": [],
   "source": [
    "import pandas as pd\n",
    "\n",
    "test_results = pd.read_csv(\"test_results.txt\")\n",
    "test_results.drop(test_results.columns[0], axis=1, inplace=True)\n",
    "user_table = pd.read_csv(\"user_table.txt\")\n",
    "\n",
    "\n",
    "df = test_results.merge(user_table, on ='user_id')\n",
    "\n",
    "\n",
    "\n"
   ]
  },
  {
   "cell_type": "code",
   "execution_count": 19,
   "outputs": [
    {
     "name": "stdout",
     "output_type": "stream",
     "text": [
      "2015-05-08 03:38:34\n",
      "3\n",
      "<class 'pandas._libs.tslibs.timestamps.Timestamp'>\n"
     ]
    }
   ],
   "source": [
    "df.drop(columns = ['lat', 'long', 'user_id', 'country'], inplace=True)\n",
    "df['operative_system']=df.groupby('device').operative_system.transform(lambda x: x.fillna(x.mode()[0]))\n",
    "df = df.fillna(df.mode().iloc[0])\n",
    "print(df['timestamp'][0])\n",
    "\n",
    "df['timestamp'] =df['timestamp'].str.replace('60', '00')\n",
    "df['timestamp'] =pd.to_datetime(df['timestamp'], format='%Y-%m-%d %H:%M:%S', errors = 'coerce')\n",
    "print(df['timestamp'][0].hour)\n",
    "print(type(df['timestamp'][0]))\n",
    "\n",
    "\n",
    "df['hour'] = df['timestamp'].dt.hour\n",
    "df['month'] = df['timestamp'].dt.month\n",
    "df['weekday'] = df['timestamp'].dt.weekday\n",
    "df['year'] = df['timestamp'].dt.year\n"
   ],
   "metadata": {
    "collapsed": false,
    "pycharm": {
     "name": "#%%\n"
    }
   }
  },
  {
   "cell_type": "code",
   "execution_count": 20,
   "outputs": [
    {
     "name": "stdout",
     "output_type": "stream",
     "text": [
      "5.0    99072\n",
      "4.0    88840\n",
      "3.0    87440\n",
      "Name: month, dtype: int64\n",
      "2015.0    275352\n",
      "Name: year, dtype: int64\n",
      "hour value counts 12.0    33364\n",
      "11.0    29060\n",
      "10.0    24336\n",
      "9.0     19270\n",
      "13.0    14882\n",
      "16.0    14594\n",
      "8.0     14415\n",
      "14.0    14345\n",
      "18.0    14308\n",
      "17.0    14206\n",
      "15.0    14168\n",
      "7.0      9584\n",
      "2.0      5069\n",
      "5.0      5014\n",
      "22.0     4979\n",
      "3.0      4979\n",
      "1.0      4969\n",
      "0.0      4950\n",
      "21.0     4890\n",
      "19.0     4844\n",
      "20.0     4843\n",
      "6.0      4814\n",
      "23.0     4782\n",
      "4.0      4687\n",
      "Name: hour, dtype: int64\n",
      "weekday value counts 4.0    79888\n",
      "5.0    64514\n",
      "6.0    48706\n",
      "3.0    32119\n",
      "1.0    17066\n",
      "0.0    16684\n",
      "2.0    16375\n",
      "Name: weekday, dtype: int64\n",
      "99188\n",
      "98244\n",
      "272621\n"
     ]
    }
   ],
   "source": [
    "#check for seasonality\n",
    "print(df['month'].value_counts())\n",
    "#check how historical the data is\n",
    "print(df['year'].value_counts())\n",
    "print('hour value counts',df['hour'].value_counts())\n",
    "print('weekday value counts',df['weekday'].value_counts())\n",
    "\n",
    "df.drop(columns = ['month', 'year', 'timestamp'], inplace=True)\n",
    "\n",
    "#check trial users were actually displayed 59\n",
    "\n",
    "print(len(df[df['test']==1]))\n",
    "print(len(df[df['price']==59.0]))\n",
    "\n",
    "#remove inconsistent rows\n",
    "df = df[(df['test']==1) & (df['price']==59.0) | (df['test']==0) & (df['price']==39.0)]\n",
    "\n",
    "print(len(df))\n",
    "df.drop(columns = ['price'], inplace=True)\n",
    "#remove hours and weekdays that don't make sense\n",
    "df = df.dropna()"
   ],
   "metadata": {
    "collapsed": false,
    "pycharm": {
     "name": "#%%\n"
    }
   }
  },
  {
   "cell_type": "code",
   "execution_count": null,
   "outputs": [],
   "source": [
    "#Fisher's exact test'\n",
    "\n",
    "\n",
    "\n",
    "\n",
    "\n",
    "\n"
   ],
   "metadata": {
    "collapsed": false,
    "pycharm": {
     "name": "#%%\n"
    }
   }
  },
  {
   "cell_type": "code",
   "execution_count": 21,
   "outputs": [],
   "source": [
    "from sklearn import preprocessing\n",
    "df_enc = df.drop(columns=['test'])\n",
    "to_encode = ['source', 'device', 'operative_system', 'city']\n",
    "le = preprocessing.LabelEncoder()\n",
    "\n",
    "for i in to_encode:\n",
    "    df_enc[i] = le.fit_transform(df_enc[i])\n"
   ],
   "metadata": {
    "collapsed": false,
    "pycharm": {
     "name": "#%%\n"
    }
   }
  },
  {
   "cell_type": "code",
   "execution_count": null,
   "outputs": [
    {
     "name": "stdout",
     "output_type": "stream",
     "text": [
      "Iteration number: 2\n",
      "Init: initializing centroids\n",
      "Init: initializing clusters\n",
      "Starting iterations...\n",
      "Run 1, iteration: 1/100, moves: 4310, cost: 992366.0\n",
      "Iteration number: 3\n",
      "Init: initializing centroids\n",
      "Init: initializing clusters\n",
      "Starting iterations...\n",
      "Run 1, iteration: 1/100, moves: 4155, cost: 929700.0\n",
      "Iteration number: 4\n",
      "Init: initializing centroids\n",
      "Init: initializing clusters\n",
      "Starting iterations...\n",
      "Run 1, iteration: 1/100, moves: 3987, cost: 902859.0\n",
      "Iteration number: 5\n",
      "Init: initializing centroids\n",
      "Init: initializing clusters\n",
      "Starting iterations...\n",
      "Run 1, iteration: 1/100, moves: 23037, cost: 871979.0\n",
      "Iteration number: 6\n",
      "Init: initializing centroids\n",
      "Init: initializing clusters\n",
      "Starting iterations...\n"
     ]
    }
   ],
   "source": [
    "from kmodes.kmodes import KModes\n",
    "\n",
    "cost=[]\n",
    "for k in list(range(2,11)):\n",
    "        print('Iteration number:', k)\n",
    "        km = KModes(n_clusters=k, n_init = 1, verbose=1)\n",
    "        km.fit(df_enc)\n",
    "        cost.append(km.cost_)\n",
    "\n",
    "import numpy as np\n",
    "y = np.array([i for i in range(2,11,1)])\n",
    "import matplotlib.pyplot as plt\n",
    "\n",
    "plt.plot(y,cost)\n",
    "plt.show()"
   ],
   "metadata": {
    "collapsed": false,
    "pycharm": {
     "name": "#%%\n",
     "is_executing": true
    }
   }
  },
  {
   "cell_type": "code",
   "execution_count": 6,
   "outputs": [
    {
     "name": "stdout",
     "output_type": "stream",
     "text": [
      "Init: initializing centroids\n",
      "Init: initializing clusters\n",
      "Starting iterations...\n",
      "Run 1, iteration: 1/100, moves: 4131, cost: 1050546.0\n",
      "done with kmodes\n"
     ]
    }
   ],
   "source": [
    "#choose k=3\n",
    "km = KModes(n_clusters=3, n_init = 1, verbose=1)\n",
    "clusters = km.fit_predict(df_enc)\n",
    "\n",
    "print('done with kmodes')\n",
    "\n",
    "\n",
    "\n"
   ],
   "metadata": {
    "collapsed": false,
    "pycharm": {
     "name": "#%%\n"
    }
   }
  },
  {
   "cell_type": "code",
   "execution_count": 8,
   "outputs": [
    {
     "ename": "ValueError",
     "evalue": "y contains previously unseen labels: [269 270 271 272 273 274 275 276 277 278 279 280 281 282 283 284 285 286\n 287 288 289 290 291 292 293 294 295 296 297 298 299 300 301 302 303 304\n 305 306 307 308 309 310 311 312 313 314 315 316 317 318 319 320 321 322\n 323 324 325 326 327 328 329 330 331 332 333 334 335 336 337 338 339 340\n 341 342 343 344 345 346 347 348 349 350 351 352 353 354 355 356 357 358\n 359 360 361 362 363 364 365 366 367 368 369 370 371 372 373 374 375 376\n 377 378 379 380 381 382 383 384 385 386 387 388 389 390 391 392 393 394\n 395 396 397 398 399 400 401 402 403 404 405 406 407 408 409 410 411 412\n 413 414 415 416 417 418 419 420 421 422 423 424 425 426 427 428 429 430\n 431 432 433 434 435 436 437 438 439 440 441 442 443 444 445 446 447 448\n 449 450 451 452 453 454 455 456 457 458 459 460 461 462 463 464 465 466\n 467 468 469 470 471 472 473 474 475 476 477 478 479 480 481 482 483 484\n 485 486 487 488 489 490 491 492 493 494 495 496 497 498 499 500 501 502\n 503 504 505 506 507 508 509 510 511 512 513 514 515 516 517 518 519 520\n 521 522 523 524 525 526 527 528 529 530 531 532 533 534 535 536 537 538\n 539 540 541 542 543 544 545 546 547 548 549 550 551 552 553 554 555 556\n 557 558 559 560 561 562 563 564 565 566 567 568 569 570 571 572 573 574\n 575 576 577 578 579 580 581 582 583 584 585 586 587 588 589 590 591 592\n 593 594 595 596 597 598 599 600 601 602 603 604 605 606 607 608 609 610\n 611 612 613 614 615 616 617 618 619 620 621 622 623 624 625 626 627 628\n 629 630 631 632 633 634 635 636 637 638 639 640 641 642 643 644 645 646\n 647 648 649 650 651 652 653 654 655 656 657 658 659 660 661 662 663 664\n 665 666 667 668 669 670 671 672 673 674 675 676 677 678 679 680 681 682\n 683 684 685 686 687 688 689 690 691 692 693 694 695 696 697 698 699 700\n 701 702 703 704 705 706 707 708 709 710 711 712 713 714 715 716 717 718\n 719 720 721 722 723 724 725 726 727 728 729 730 731 732 733 734 735 736\n 737 738 739 740 741 742 743 744 745 746 747 748 749 750 751 752 753 754\n 755 756 757 758 759 760 761 762 763 764 765 766 767 768 769 770 771 772\n 773 774 775 776 777 778 779 780 781 782 783 784 785 786 787 788 789 790\n 791 792 793 794 795 796 797 798 799 800 801 802 803 804 805 806 807 808\n 809 810 811 812 813 814 815 816 817 818 819 820 821 822 823 824 825 826\n 827 828 829 830 831 832 833 834 835 836 837 838 839 840 841 842 843 844\n 845 846 847 848 849 850 851 852 853 854 855 856 857 858 859 860 861 862\n 863 864 865 866 867 868 869 870 871 872 873 874 875 876 877 878 879 880\n 881 882 883 884 885 886 887 888 889 890 891 892 893 894 895 896 897 898\n 899 900 901 902 903 904 905 906 907 908 909 910 911 912 913 914 915 916\n 917 918 919 920 921 922]",
     "output_type": "error",
     "traceback": [
      "\u001B[0;31m---------------------------------------------------------------------------\u001B[0m",
      "\u001B[0;31mValueError\u001B[0m                                Traceback (most recent call last)",
      "\u001B[0;32m<ipython-input-8-1a2eb36af22b>\u001B[0m in \u001B[0;36m<module>\u001B[0;34m\u001B[0m\n\u001B[0;32m----> 1\u001B[0;31m \u001B[0mdf_renc\u001B[0m \u001B[0;34m=\u001B[0m \u001B[0mdf_enc\u001B[0m\u001B[0;34m.\u001B[0m\u001B[0mapply\u001B[0m\u001B[0;34m(\u001B[0m\u001B[0mle\u001B[0m\u001B[0;34m.\u001B[0m\u001B[0minverse_transform\u001B[0m\u001B[0;34m)\u001B[0m\u001B[0;34m\u001B[0m\u001B[0;34m\u001B[0m\u001B[0m\n\u001B[0m\u001B[1;32m      2\u001B[0m \u001B[0;34m\u001B[0m\u001B[0m\n\u001B[1;32m      3\u001B[0m \u001B[0mdf_ind_res\u001B[0m \u001B[0;34m=\u001B[0m \u001B[0mdf_renc\u001B[0m\u001B[0;34m.\u001B[0m\u001B[0mreset_index\u001B[0m\u001B[0;34m(\u001B[0m\u001B[0;34m)\u001B[0m\u001B[0;34m\u001B[0m\u001B[0;34m\u001B[0m\u001B[0m\n\u001B[1;32m      4\u001B[0m \u001B[0;34m\u001B[0m\u001B[0m\n",
      "\u001B[0;32m~/opt/anaconda3/envs/Capuano_Chiara_softwarePricing/lib/python3.8/site-packages/pandas/core/frame.py\u001B[0m in \u001B[0;36mapply\u001B[0;34m(self, func, axis, raw, result_type, args, **kwds)\u001B[0m\n\u001B[1;32m   7546\u001B[0m             \u001B[0mkwds\u001B[0m\u001B[0;34m=\u001B[0m\u001B[0mkwds\u001B[0m\u001B[0;34m,\u001B[0m\u001B[0;34m\u001B[0m\u001B[0;34m\u001B[0m\u001B[0m\n\u001B[1;32m   7547\u001B[0m         )\n\u001B[0;32m-> 7548\u001B[0;31m         \u001B[0;32mreturn\u001B[0m \u001B[0mop\u001B[0m\u001B[0;34m.\u001B[0m\u001B[0mget_result\u001B[0m\u001B[0;34m(\u001B[0m\u001B[0;34m)\u001B[0m\u001B[0;34m\u001B[0m\u001B[0;34m\u001B[0m\u001B[0m\n\u001B[0m\u001B[1;32m   7549\u001B[0m \u001B[0;34m\u001B[0m\u001B[0m\n\u001B[1;32m   7550\u001B[0m     \u001B[0;32mdef\u001B[0m \u001B[0mapplymap\u001B[0m\u001B[0;34m(\u001B[0m\u001B[0mself\u001B[0m\u001B[0;34m,\u001B[0m \u001B[0mfunc\u001B[0m\u001B[0;34m)\u001B[0m \u001B[0;34m->\u001B[0m \u001B[0;34m\"DataFrame\"\u001B[0m\u001B[0;34m:\u001B[0m\u001B[0;34m\u001B[0m\u001B[0;34m\u001B[0m\u001B[0m\n",
      "\u001B[0;32m~/opt/anaconda3/envs/Capuano_Chiara_softwarePricing/lib/python3.8/site-packages/pandas/core/apply.py\u001B[0m in \u001B[0;36mget_result\u001B[0;34m(self)\u001B[0m\n\u001B[1;32m    178\u001B[0m             \u001B[0;32mreturn\u001B[0m \u001B[0mself\u001B[0m\u001B[0;34m.\u001B[0m\u001B[0mapply_raw\u001B[0m\u001B[0;34m(\u001B[0m\u001B[0;34m)\u001B[0m\u001B[0;34m\u001B[0m\u001B[0;34m\u001B[0m\u001B[0m\n\u001B[1;32m    179\u001B[0m \u001B[0;34m\u001B[0m\u001B[0m\n\u001B[0;32m--> 180\u001B[0;31m         \u001B[0;32mreturn\u001B[0m \u001B[0mself\u001B[0m\u001B[0;34m.\u001B[0m\u001B[0mapply_standard\u001B[0m\u001B[0;34m(\u001B[0m\u001B[0;34m)\u001B[0m\u001B[0;34m\u001B[0m\u001B[0;34m\u001B[0m\u001B[0m\n\u001B[0m\u001B[1;32m    181\u001B[0m \u001B[0;34m\u001B[0m\u001B[0m\n\u001B[1;32m    182\u001B[0m     \u001B[0;32mdef\u001B[0m \u001B[0mapply_empty_result\u001B[0m\u001B[0;34m(\u001B[0m\u001B[0mself\u001B[0m\u001B[0;34m)\u001B[0m\u001B[0;34m:\u001B[0m\u001B[0;34m\u001B[0m\u001B[0;34m\u001B[0m\u001B[0m\n",
      "\u001B[0;32m~/opt/anaconda3/envs/Capuano_Chiara_softwarePricing/lib/python3.8/site-packages/pandas/core/apply.py\u001B[0m in \u001B[0;36mapply_standard\u001B[0;34m(self)\u001B[0m\n\u001B[1;32m    269\u001B[0m \u001B[0;34m\u001B[0m\u001B[0m\n\u001B[1;32m    270\u001B[0m     \u001B[0;32mdef\u001B[0m \u001B[0mapply_standard\u001B[0m\u001B[0;34m(\u001B[0m\u001B[0mself\u001B[0m\u001B[0;34m)\u001B[0m\u001B[0;34m:\u001B[0m\u001B[0;34m\u001B[0m\u001B[0;34m\u001B[0m\u001B[0m\n\u001B[0;32m--> 271\u001B[0;31m         \u001B[0mresults\u001B[0m\u001B[0;34m,\u001B[0m \u001B[0mres_index\u001B[0m \u001B[0;34m=\u001B[0m \u001B[0mself\u001B[0m\u001B[0;34m.\u001B[0m\u001B[0mapply_series_generator\u001B[0m\u001B[0;34m(\u001B[0m\u001B[0;34m)\u001B[0m\u001B[0;34m\u001B[0m\u001B[0;34m\u001B[0m\u001B[0m\n\u001B[0m\u001B[1;32m    272\u001B[0m \u001B[0;34m\u001B[0m\u001B[0m\n\u001B[1;32m    273\u001B[0m         \u001B[0;31m# wrap results\u001B[0m\u001B[0;34m\u001B[0m\u001B[0;34m\u001B[0m\u001B[0;34m\u001B[0m\u001B[0m\n",
      "\u001B[0;32m~/opt/anaconda3/envs/Capuano_Chiara_softwarePricing/lib/python3.8/site-packages/pandas/core/apply.py\u001B[0m in \u001B[0;36mapply_series_generator\u001B[0;34m(self)\u001B[0m\n\u001B[1;32m    298\u001B[0m                 \u001B[0;32mfor\u001B[0m \u001B[0mi\u001B[0m\u001B[0;34m,\u001B[0m \u001B[0mv\u001B[0m \u001B[0;32min\u001B[0m \u001B[0menumerate\u001B[0m\u001B[0;34m(\u001B[0m\u001B[0mseries_gen\u001B[0m\u001B[0;34m)\u001B[0m\u001B[0;34m:\u001B[0m\u001B[0;34m\u001B[0m\u001B[0;34m\u001B[0m\u001B[0m\n\u001B[1;32m    299\u001B[0m                     \u001B[0;31m# ignore SettingWithCopy here in case the user mutates\u001B[0m\u001B[0;34m\u001B[0m\u001B[0;34m\u001B[0m\u001B[0;34m\u001B[0m\u001B[0m\n\u001B[0;32m--> 300\u001B[0;31m                     \u001B[0mresults\u001B[0m\u001B[0;34m[\u001B[0m\u001B[0mi\u001B[0m\u001B[0;34m]\u001B[0m \u001B[0;34m=\u001B[0m \u001B[0mself\u001B[0m\u001B[0;34m.\u001B[0m\u001B[0mf\u001B[0m\u001B[0;34m(\u001B[0m\u001B[0mv\u001B[0m\u001B[0;34m)\u001B[0m\u001B[0;34m\u001B[0m\u001B[0;34m\u001B[0m\u001B[0m\n\u001B[0m\u001B[1;32m    301\u001B[0m                     \u001B[0;32mif\u001B[0m \u001B[0misinstance\u001B[0m\u001B[0;34m(\u001B[0m\u001B[0mresults\u001B[0m\u001B[0;34m[\u001B[0m\u001B[0mi\u001B[0m\u001B[0;34m]\u001B[0m\u001B[0;34m,\u001B[0m \u001B[0mABCSeries\u001B[0m\u001B[0;34m)\u001B[0m\u001B[0;34m:\u001B[0m\u001B[0;34m\u001B[0m\u001B[0;34m\u001B[0m\u001B[0m\n\u001B[1;32m    302\u001B[0m                         \u001B[0;31m# If we have a view on v, we need to make a copy because\u001B[0m\u001B[0;34m\u001B[0m\u001B[0;34m\u001B[0m\u001B[0;34m\u001B[0m\u001B[0m\n",
      "\u001B[0;32m~/opt/anaconda3/envs/Capuano_Chiara_softwarePricing/lib/python3.8/site-packages/sklearn/preprocessing/_label.py\u001B[0m in \u001B[0;36minverse_transform\u001B[0;34m(self, y)\u001B[0m\n\u001B[1;32m    298\u001B[0m         \u001B[0mdiff\u001B[0m \u001B[0;34m=\u001B[0m \u001B[0mnp\u001B[0m\u001B[0;34m.\u001B[0m\u001B[0msetdiff1d\u001B[0m\u001B[0;34m(\u001B[0m\u001B[0my\u001B[0m\u001B[0;34m,\u001B[0m \u001B[0mnp\u001B[0m\u001B[0;34m.\u001B[0m\u001B[0marange\u001B[0m\u001B[0;34m(\u001B[0m\u001B[0mlen\u001B[0m\u001B[0;34m(\u001B[0m\u001B[0mself\u001B[0m\u001B[0;34m.\u001B[0m\u001B[0mclasses_\u001B[0m\u001B[0;34m)\u001B[0m\u001B[0;34m)\u001B[0m\u001B[0;34m)\u001B[0m\u001B[0;34m\u001B[0m\u001B[0;34m\u001B[0m\u001B[0m\n\u001B[1;32m    299\u001B[0m         \u001B[0;32mif\u001B[0m \u001B[0mlen\u001B[0m\u001B[0;34m(\u001B[0m\u001B[0mdiff\u001B[0m\u001B[0;34m)\u001B[0m\u001B[0;34m:\u001B[0m\u001B[0;34m\u001B[0m\u001B[0;34m\u001B[0m\u001B[0m\n\u001B[0;32m--> 300\u001B[0;31m             raise ValueError(\n\u001B[0m\u001B[1;32m    301\u001B[0m                     \"y contains previously unseen labels: %s\" % str(diff))\n\u001B[1;32m    302\u001B[0m         \u001B[0my\u001B[0m \u001B[0;34m=\u001B[0m \u001B[0mnp\u001B[0m\u001B[0;34m.\u001B[0m\u001B[0masarray\u001B[0m\u001B[0;34m(\u001B[0m\u001B[0my\u001B[0m\u001B[0;34m)\u001B[0m\u001B[0;34m\u001B[0m\u001B[0;34m\u001B[0m\u001B[0m\n",
      "\u001B[0;31mValueError\u001B[0m: y contains previously unseen labels: [269 270 271 272 273 274 275 276 277 278 279 280 281 282 283 284 285 286\n 287 288 289 290 291 292 293 294 295 296 297 298 299 300 301 302 303 304\n 305 306 307 308 309 310 311 312 313 314 315 316 317 318 319 320 321 322\n 323 324 325 326 327 328 329 330 331 332 333 334 335 336 337 338 339 340\n 341 342 343 344 345 346 347 348 349 350 351 352 353 354 355 356 357 358\n 359 360 361 362 363 364 365 366 367 368 369 370 371 372 373 374 375 376\n 377 378 379 380 381 382 383 384 385 386 387 388 389 390 391 392 393 394\n 395 396 397 398 399 400 401 402 403 404 405 406 407 408 409 410 411 412\n 413 414 415 416 417 418 419 420 421 422 423 424 425 426 427 428 429 430\n 431 432 433 434 435 436 437 438 439 440 441 442 443 444 445 446 447 448\n 449 450 451 452 453 454 455 456 457 458 459 460 461 462 463 464 465 466\n 467 468 469 470 471 472 473 474 475 476 477 478 479 480 481 482 483 484\n 485 486 487 488 489 490 491 492 493 494 495 496 497 498 499 500 501 502\n 503 504 505 506 507 508 509 510 511 512 513 514 515 516 517 518 519 520\n 521 522 523 524 525 526 527 528 529 530 531 532 533 534 535 536 537 538\n 539 540 541 542 543 544 545 546 547 548 549 550 551 552 553 554 555 556\n 557 558 559 560 561 562 563 564 565 566 567 568 569 570 571 572 573 574\n 575 576 577 578 579 580 581 582 583 584 585 586 587 588 589 590 591 592\n 593 594 595 596 597 598 599 600 601 602 603 604 605 606 607 608 609 610\n 611 612 613 614 615 616 617 618 619 620 621 622 623 624 625 626 627 628\n 629 630 631 632 633 634 635 636 637 638 639 640 641 642 643 644 645 646\n 647 648 649 650 651 652 653 654 655 656 657 658 659 660 661 662 663 664\n 665 666 667 668 669 670 671 672 673 674 675 676 677 678 679 680 681 682\n 683 684 685 686 687 688 689 690 691 692 693 694 695 696 697 698 699 700\n 701 702 703 704 705 706 707 708 709 710 711 712 713 714 715 716 717 718\n 719 720 721 722 723 724 725 726 727 728 729 730 731 732 733 734 735 736\n 737 738 739 740 741 742 743 744 745 746 747 748 749 750 751 752 753 754\n 755 756 757 758 759 760 761 762 763 764 765 766 767 768 769 770 771 772\n 773 774 775 776 777 778 779 780 781 782 783 784 785 786 787 788 789 790\n 791 792 793 794 795 796 797 798 799 800 801 802 803 804 805 806 807 808\n 809 810 811 812 813 814 815 816 817 818 819 820 821 822 823 824 825 826\n 827 828 829 830 831 832 833 834 835 836 837 838 839 840 841 842 843 844\n 845 846 847 848 849 850 851 852 853 854 855 856 857 858 859 860 861 862\n 863 864 865 866 867 868 869 870 871 872 873 874 875 876 877 878 879 880\n 881 882 883 884 885 886 887 888 889 890 891 892 893 894 895 896 897 898\n 899 900 901 902 903 904 905 906 907 908 909 910 911 912 913 914 915 916\n 917 918 919 920 921 922]"
     ]
    }
   ],
   "source": [
    "df_renc = df_enc.apply(le.inverse_transform)\n",
    "\n",
    "df_ind_res = df_renc.reset_index()"
   ],
   "metadata": {
    "collapsed": false,
    "pycharm": {
     "name": "#%%\n"
    }
   }
  },
  {
   "cell_type": "code",
   "execution_count": null,
   "outputs": [],
   "source": [
    "clustersDf = pd.DataFrame(clusters)\n",
    "clustersDf.columns = ['cluster_predicted']\n",
    "df_clusters = pd.concat([clustersDf, df_ind_res], axis = 1).reset_index()\n",
    "df_clusters = df_clusters.drop(['index', 'level_0'], axis = 1)\n",
    "\n",
    "print(df_clusters.head())\n",
    "for col in df_clusters.columns:\n",
    "    print(col)\n",
    "import matplotlib.pyplot as plt\n",
    "import seaborn as sns\n",
    "cols_clusters = ['source','device', 'operative_system','converted','city','hour','weekday']\n",
    "\n",
    "\n",
    "for col in df_enc.columns:\n",
    "    #plt.subplots(figsize = (15,5))\n",
    "    sns.countplot(x=df_clusters[col],order=df_clusters[col].value_counts().index,hue=df_clusters['cluster_predicted'])\n",
    "    plt.show()"
   ],
   "metadata": {
    "collapsed": false,
    "pycharm": {
     "name": "#%%\n"
    }
   }
  }
 ],
 "metadata": {
  "kernelspec": {
   "display_name": "Python 3",
   "language": "python",
   "name": "python3"
  },
  "language_info": {
   "codemirror_mode": {
    "name": "ipython",
    "version": 2
   },
   "file_extension": ".py",
   "mimetype": "text/x-python",
   "name": "python",
   "nbconvert_exporter": "python",
   "pygments_lexer": "ipython2",
   "version": "2.7.6"
  }
 },
 "nbformat": 4,
 "nbformat_minor": 0
}